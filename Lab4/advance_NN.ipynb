{
 "cells": [
  {
   "cell_type": "code",
   "execution_count": 285,
   "id": "c843c2f9",
   "metadata": {},
   "outputs": [],
   "source": [
    "from keras.datasets import fashion_mnist\n",
    "\n",
    "(X_train, _), (X_test, _) = fashion_mnist.load_data()"
   ]
  },
  {
   "cell_type": "code",
   "execution_count": 286,
   "id": "92430d87",
   "metadata": {},
   "outputs": [],
   "source": [
    "X_train = np.concatenate([X_train, X_test])\n",
    "X_train = X_train.astype(np.float32) / 255."
   ]
  },
  {
   "cell_type": "code",
   "execution_count": 287,
   "id": "d8d76eee",
   "metadata": {},
   "outputs": [],
   "source": [
    "from keras.layers import Dense, Reshape, Flatten, LeakyReLU, Dropout, BatchNormalization\n",
    "from keras.layers.convolutional import Conv2D, Conv2DTranspose\n",
    "\n",
    "generator = keras.models.Sequential([\n",
    "    keras.layers.Dense(7 * 7 * 128, input_shape =[100]),\n",
    "    keras.layers.Reshape([7, 7, 128]),\n",
    "    keras.layers.BatchNormalization(),\n",
    "    keras.layers.Conv2DTranspose(\n",
    "        64, (5, 5), (2, 2), padding =\"same\", activation =\"selu\"),\n",
    "    keras.layers.BatchNormalization(),\n",
    "    keras.layers.Conv2DTranspose(\n",
    "        1, (5, 5), (2, 2), padding =\"same\", activation =\"tanh\"),\n",
    "])\n",
    "\n",
    "discriminator = keras.models.Sequential([\n",
    "    keras.layers.Conv2D(64, (5, 5), (2, 2), padding =\"same\", input_shape =[28, 28, 1]),\n",
    "    keras.layers.LeakyReLU(0.2),\n",
    "    keras.layers.Dropout(0.3),\n",
    "    keras.layers.Conv2D(128, (5, 5), (2, 2), padding =\"same\"),\n",
    "    keras.layers.LeakyReLU(0.2),\n",
    "    keras.layers.Dropout(0.3),\n",
    "    keras.layers.Flatten(),\n",
    "    keras.layers.Dense(1, activation ='sigmoid')\n",
    "])"
   ]
  },
  {
   "cell_type": "code",
   "execution_count": 288,
   "id": "43c81899",
   "metadata": {},
   "outputs": [],
   "source": [
    "discriminator.compile(loss =\"binary_crossentropy\", optimizer =\"adam\")\n",
    "discriminator.trainable = False\n",
    "\n",
    "gan = keras.models.Sequential([generator, discriminator])\n",
    "gan.compile(loss =\"binary_crossentropy\", optimizer =\"adam\")"
   ]
  },
  {
   "cell_type": "code",
   "execution_count": 289,
   "id": "f0a791d1",
   "metadata": {
    "scrolled": true
   },
   "outputs": [
    {
     "name": "stdout",
     "output_type": "stream",
     "text": [
      "Model: \"sequential_19\"\n",
      "_________________________________________________________________\n",
      " Layer (type)                Output Shape              Param #   \n",
      "=================================================================\n",
      " conv2d (Conv2D)             (None, 14, 14, 64)        1664      \n",
      "                                                                 \n",
      " leaky_re_lu (LeakyReLU)     (None, 14, 14, 64)        0         \n",
      "                                                                 \n",
      " dropout (Dropout)           (None, 14, 14, 64)        0         \n",
      "                                                                 \n",
      " conv2d_1 (Conv2D)           (None, 7, 7, 128)         204928    \n",
      "                                                                 \n",
      " leaky_re_lu_1 (LeakyReLU)   (None, 7, 7, 128)         0         \n",
      "                                                                 \n",
      " dropout_1 (Dropout)         (None, 7, 7, 128)         0         \n",
      "                                                                 \n",
      " flatten (Flatten)           (None, 6272)              0         \n",
      "                                                                 \n",
      " dense_25 (Dense)            (None, 1)                 6273      \n",
      "                                                                 \n",
      "=================================================================\n",
      "Total params: 212,865\n",
      "Trainable params: 0\n",
      "Non-trainable params: 212,865\n",
      "_________________________________________________________________\n"
     ]
    }
   ],
   "source": [
    "discriminator.summary()"
   ]
  },
  {
   "cell_type": "code",
   "execution_count": 290,
   "id": "fe5940cc",
   "metadata": {},
   "outputs": [],
   "source": [
    "def create_batch(x_train):\n",
    "    dataset = tf.data.Dataset.from_tensor_slices(x_train).shuffle(1000)\n",
    "    dataset = dataset.batch(batch_size, drop_remainder = True).prefetch(1)\n",
    "    return dataset"
   ]
  },
  {
   "cell_type": "code",
   "execution_count": 291,
   "id": "e9867490",
   "metadata": {},
   "outputs": [],
   "source": [
    "def generate_and_save_images(model, epoch, img) -> None:\n",
    "    predictions = model(img, training = False)\n",
    "\n",
    "    fig = plt.figure(figsize =(10, 10))\n",
    "\n",
    "    for i in range(25):\n",
    "        plt.subplot(5, 5, i + 1)\n",
    "        plt.imshow(predictions[i, :, :, 0] * 127.5 + 127.5, cmap ='binary')\n",
    "        plt.axis('off')\n",
    "\n",
    "    plt.savefig('photos/image_epoch_{:04d}.png'.format(epoch))"
   ]
  },
  {
   "cell_type": "code",
   "execution_count": 292,
   "id": "b73f14fe",
   "metadata": {},
   "outputs": [],
   "source": [
    "import numpy as np\n",
    "from tqdm import tqdm\n",
    "\n",
    "def train_dcgan(gan, dataset, batch_size, num_features, predefined_noise, epochs):\n",
    "    history = {'d_loss': [], 'g_loss': []}\n",
    "    generator, discriminator = gan.layers\n",
    "    \n",
    "    for epoch in tqdm(range(epochs)):\n",
    "        d_loss_list, g_loss_list = [], []\n",
    "        \n",
    "        print(\"Epoch {}/{}\".format(epoch + 1, epochs))\n",
    "\n",
    "        for X_batch in tqdm(dataset, total=len(dataset), desc='Processing batches'):\n",
    "            noise = tf.random.normal(shape =[batch_size, num_features])\n",
    "            generated_images = generator(noise)\n",
    "\n",
    "            X_fake_and_real = np.concatenate([generated_images, X_batch])\n",
    "            y1 = tf.constant([[0.]] * batch_size + [[1.]] * batch_size)\n",
    "            \n",
    "            discriminator.trainable = True\n",
    "            \n",
    "            d_loss = discriminator.train_on_batch(X_fake_and_real, y1)\n",
    "            d_loss_list.append(d_loss)\n",
    "\n",
    "            noise = tf.random.normal(shape =[batch_size, num_features])\n",
    "            y2 = tf.constant([[1.]] * batch_size)\n",
    "            \n",
    "            discriminator.trainable = False\n",
    "            \n",
    "            g_loss = gan.train_on_batch(noise, y2)\n",
    "            g_loss_list.append(g_loss)\n",
    "            \n",
    "        d_loss = np.mean(d_loss_list)\n",
    "        g_loss = np.mean(g_loss_list)\n",
    "        \n",
    "        history['d_loss'].append(d_loss)\n",
    "        history['g_loss'].append(g_loss)\n",
    "        \n",
    "        print(f'Discriminator loss: {d_loss:.4f}, Generator loss: {g_loss:.4f}')\n",
    "\n",
    "        generate_and_save_images(generator, epoch, predefined_noise)\n",
    "    return history"
   ]
  },
  {
   "cell_type": "code",
   "execution_count": 293,
   "id": "9982b3e3",
   "metadata": {
    "scrolled": true
   },
   "outputs": [],
   "source": [
    "batch_size = 512\n",
    "latent_size = 100\n",
    "\n",
    "X_train_dcgan = X_train.reshape(-1, 28, 28, 1) * 2. - 1.\n",
    "\n",
    "dataset = create_batch(X_train_dcgan)\n",
    "predefined_noise = tf.random.normal(shape =[batch_size, latent_size])"
   ]
  },
  {
   "cell_type": "code",
   "execution_count": null,
   "id": "4ca284e8",
   "metadata": {
    "scrolled": true
   },
   "outputs": [
    {
     "name": "stderr",
     "output_type": "stream",
     "text": [
      "\r",
      "  0%|                                                    | 0/10 [00:00<?, ?it/s]"
     ]
    },
    {
     "name": "stdout",
     "output_type": "stream",
     "text": [
      "Epoch 1/10\n"
     ]
    },
    {
     "name": "stderr",
     "output_type": "stream",
     "text": [
      "\n",
      "Processing batches:   0%|                               | 0/136 [00:00<?, ?it/s]\u001b[A\n",
      "Processing batches:   1%|▏                      | 1/136 [00:02<04:37,  2.06s/it]\u001b[A\n",
      "Processing batches:   1%|▎                      | 2/136 [00:02<02:32,  1.13s/it]\u001b[A\n",
      "Processing batches:   2%|▌                      | 3/136 [00:03<01:52,  1.19it/s]\u001b[A\n",
      "Processing batches:   3%|▋                      | 4/136 [00:03<01:33,  1.41it/s]\u001b[A\n",
      "Processing batches:   4%|▊                      | 5/136 [00:04<01:22,  1.59it/s]\u001b[A\n",
      "Processing batches:   4%|█                      | 6/136 [00:04<01:15,  1.72it/s]\u001b[A\n",
      "Processing batches:   5%|█▏                     | 7/136 [00:04<01:09,  1.86it/s]\u001b[A\n",
      "Processing batches:   6%|█▎                     | 8/136 [00:05<01:06,  1.92it/s]\u001b[A\n",
      "Processing batches:   7%|█▌                     | 9/136 [00:05<01:03,  1.98it/s]\u001b[A\n",
      "Processing batches:   7%|█▌                    | 10/136 [00:06<01:01,  2.04it/s]\u001b[A\n",
      "Processing batches:   8%|█▊                    | 11/136 [00:06<01:01,  2.04it/s]\u001b[A\n",
      "Processing batches:   9%|█▉                    | 12/136 [00:07<01:00,  2.04it/s]\u001b[A\n",
      "Processing batches:  10%|██                    | 13/136 [00:07<00:58,  2.09it/s]\u001b[A\n",
      "Processing batches:  10%|██▎                   | 14/136 [00:08<00:58,  2.09it/s]\u001b[A\n",
      "Processing batches:  11%|██▍                   | 15/136 [00:08<00:57,  2.09it/s]\u001b[A\n",
      "Processing batches:  12%|██▌                   | 16/136 [00:09<00:57,  2.08it/s]\u001b[A\n",
      "Processing batches:  12%|██▊                   | 17/136 [00:09<00:56,  2.10it/s]\u001b[A\n",
      "Processing batches:  13%|██▉                   | 18/136 [00:10<00:56,  2.10it/s]\u001b[A\n",
      "Processing batches:  14%|███                   | 19/136 [00:10<00:56,  2.08it/s]\u001b[A\n",
      "Processing batches:  15%|███▏                  | 20/136 [00:11<00:55,  2.07it/s]\u001b[A\n",
      "Processing batches:  15%|███▍                  | 21/136 [00:11<00:56,  2.02it/s]\u001b[A\n",
      "Processing batches:  16%|███▌                  | 22/136 [00:12<00:56,  2.03it/s]\u001b[A\n",
      "Processing batches:  17%|███▋                  | 23/136 [00:12<00:55,  2.03it/s]\u001b[A\n",
      "Processing batches:  18%|███▉                  | 24/136 [00:13<00:55,  2.03it/s]\u001b[A\n",
      "Processing batches:  18%|████                  | 25/136 [00:13<00:54,  2.04it/s]\u001b[A\n",
      "Processing batches:  19%|████▏                 | 26/136 [00:14<00:53,  2.07it/s]\u001b[A\n",
      "Processing batches:  20%|████▎                 | 27/136 [00:14<00:52,  2.09it/s]\u001b[A\n",
      "Processing batches:  21%|████▌                 | 28/136 [00:15<00:51,  2.08it/s]\u001b[A\n",
      "Processing batches:  21%|████▋                 | 29/136 [00:15<00:51,  2.09it/s]\u001b[A\n",
      "Processing batches:  22%|████▊                 | 30/136 [00:16<00:50,  2.11it/s]\u001b[A\n",
      "Processing batches:  23%|█████                 | 31/136 [00:16<00:50,  2.10it/s]\u001b[A\n",
      "Processing batches:  24%|█████▏                | 32/136 [00:16<00:49,  2.10it/s]\u001b[A\n",
      "Processing batches:  24%|█████▎                | 33/136 [00:17<00:48,  2.11it/s]\u001b[A\n",
      "Processing batches:  25%|█████▌                | 34/136 [00:17<00:48,  2.11it/s]\u001b[A\n",
      "Processing batches:  26%|█████▋                | 35/136 [00:18<00:47,  2.12it/s]\u001b[A\n",
      "Processing batches:  26%|█████▊                | 36/136 [00:18<00:46,  2.14it/s]\u001b[A\n",
      "Processing batches:  27%|█████▉                | 37/136 [00:19<00:46,  2.13it/s]\u001b[A\n",
      "Processing batches:  28%|██████▏               | 38/136 [00:19<00:46,  2.12it/s]\u001b[A\n",
      "Processing batches:  29%|██████▎               | 39/136 [00:20<00:46,  2.10it/s]\u001b[A\n",
      "Processing batches:  29%|██████▍               | 40/136 [00:20<00:45,  2.10it/s]\u001b[A\n",
      "Processing batches:  30%|██████▋               | 41/136 [00:21<00:44,  2.13it/s]\u001b[A\n",
      "Processing batches:  31%|██████▊               | 42/136 [00:21<00:43,  2.14it/s]\u001b[A\n",
      "Processing batches:  32%|██████▉               | 43/136 [00:22<00:43,  2.15it/s]\u001b[A\n",
      "Processing batches:  32%|███████               | 44/136 [00:22<00:43,  2.12it/s]\u001b[A\n",
      "Processing batches:  33%|███████▎              | 45/136 [00:23<00:42,  2.14it/s]\u001b[A\n",
      "Processing batches:  34%|███████▍              | 46/136 [00:23<00:41,  2.18it/s]\u001b[A\n",
      "Processing batches:  35%|███████▌              | 47/136 [00:23<00:39,  2.23it/s]\u001b[A\n",
      "Processing batches:  35%|███████▊              | 48/136 [00:24<00:39,  2.24it/s]\u001b[A\n",
      "Processing batches:  36%|███████▉              | 49/136 [00:24<00:38,  2.23it/s]\u001b[A\n",
      "Processing batches:  37%|████████              | 50/136 [00:25<00:38,  2.24it/s]\u001b[A\n",
      "Processing batches:  38%|████████▎             | 51/136 [00:25<00:38,  2.23it/s]\u001b[A\n",
      "Processing batches:  38%|████████▍             | 52/136 [00:26<00:38,  2.19it/s]\u001b[A\n",
      "Processing batches:  39%|████████▌             | 53/136 [00:26<00:37,  2.21it/s]\u001b[A\n",
      "Processing batches:  40%|████████▋             | 54/136 [00:27<00:37,  2.18it/s]\u001b[A\n",
      "Processing batches:  40%|████████▉             | 55/136 [00:27<00:37,  2.17it/s]\u001b[A\n",
      "Processing batches:  41%|█████████             | 56/136 [00:28<00:37,  2.15it/s]\u001b[A\n",
      "Processing batches:  42%|█████████▏            | 57/136 [00:28<00:36,  2.14it/s]\u001b[A\n",
      "Processing batches:  43%|█████████▍            | 58/136 [00:28<00:36,  2.14it/s]\u001b[A\n",
      "Processing batches:  43%|█████████▌            | 59/136 [00:29<00:35,  2.15it/s]\u001b[A\n",
      "Processing batches:  44%|█████████▋            | 60/136 [00:29<00:35,  2.13it/s]\u001b[A\n",
      "Processing batches:  45%|█████████▊            | 61/136 [00:30<00:35,  2.12it/s]\u001b[A\n",
      "Processing batches:  46%|██████████            | 62/136 [00:30<00:35,  2.11it/s]\u001b[A\n",
      "Processing batches:  46%|██████████▏           | 63/136 [00:31<00:34,  2.14it/s]\u001b[A\n",
      "Processing batches:  47%|██████████▎           | 64/136 [00:31<00:33,  2.14it/s]\u001b[A\n",
      "Processing batches:  48%|██████████▌           | 65/136 [00:32<00:32,  2.17it/s]\u001b[A\n",
      "Processing batches:  49%|██████████▋           | 66/136 [00:32<00:32,  2.13it/s]\u001b[A\n",
      "Processing batches:  49%|██████████▊           | 67/136 [00:33<00:33,  2.09it/s]\u001b[A\n",
      "Processing batches:  50%|███████████           | 68/136 [00:33<00:32,  2.10it/s]\u001b[A\n",
      "Processing batches:  51%|███████████▏          | 69/136 [00:34<00:31,  2.10it/s]\u001b[A\n",
      "Processing batches:  51%|███████████▎          | 70/136 [00:34<00:31,  2.12it/s]\u001b[A\n",
      "Processing batches:  52%|███████████▍          | 71/136 [00:35<00:30,  2.10it/s]\u001b[A\n",
      "Processing batches:  53%|███████████▋          | 72/136 [00:35<00:30,  2.11it/s]\u001b[A\n",
      "Processing batches:  54%|███████████▊          | 73/136 [00:36<00:30,  2.08it/s]\u001b[A\n",
      "Processing batches:  54%|███████████▉          | 74/136 [00:36<00:30,  2.05it/s]\u001b[A\n",
      "Processing batches:  55%|████████████▏         | 75/136 [00:37<00:29,  2.04it/s]\u001b[A\n",
      "Processing batches:  56%|████████████▎         | 76/136 [00:37<00:29,  2.00it/s]\u001b[A\n",
      "Processing batches:  57%|████████████▍         | 77/136 [00:38<00:29,  2.00it/s]\u001b[A\n",
      "Processing batches:  57%|████████████▌         | 78/136 [00:38<00:29,  1.99it/s]\u001b[A\n",
      "Processing batches:  58%|████████████▊         | 79/136 [00:39<00:28,  2.00it/s]\u001b[A\n",
      "Processing batches:  59%|████████████▉         | 80/136 [00:39<00:27,  2.03it/s]\u001b[A\n",
      "Processing batches:  60%|█████████████         | 81/136 [00:40<00:27,  2.03it/s]\u001b[A\n",
      "Processing batches:  60%|█████████████▎        | 82/136 [00:40<00:26,  2.02it/s]\u001b[A\n",
      "Processing batches:  61%|█████████████▍        | 83/136 [00:41<00:27,  1.96it/s]\u001b[A\n",
      "Processing batches:  62%|█████████████▌        | 84/136 [00:41<00:25,  2.02it/s]\u001b[A\n",
      "Processing batches:  62%|█████████████▊        | 85/136 [00:42<00:24,  2.06it/s]\u001b[A\n",
      "Processing batches:  63%|█████████████▉        | 86/136 [00:42<00:24,  2.06it/s]\u001b[A\n",
      "Processing batches:  64%|██████████████        | 87/136 [00:43<00:23,  2.07it/s]\u001b[A\n",
      "Processing batches:  65%|██████████████▏       | 88/136 [00:43<00:22,  2.09it/s]\u001b[A\n",
      "Processing batches:  65%|██████████████▍       | 89/136 [00:43<00:22,  2.09it/s]\u001b[A\n",
      "Processing batches:  66%|██████████████▌       | 90/136 [00:44<00:21,  2.09it/s]\u001b[A\n",
      "Processing batches:  67%|██████████████▋       | 91/136 [00:44<00:21,  2.09it/s]\u001b[A\n",
      "Processing batches:  68%|██████████████▉       | 92/136 [00:45<00:21,  2.08it/s]\u001b[A\n",
      "Processing batches:  68%|███████████████       | 93/136 [00:45<00:20,  2.08it/s]\u001b[A\n",
      "Processing batches:  69%|███████████████▏      | 94/136 [00:46<00:19,  2.10it/s]\u001b[A\n",
      "Processing batches:  70%|███████████████▎      | 95/136 [00:46<00:19,  2.09it/s]\u001b[A\n",
      "Processing batches:  71%|███████████████▌      | 96/136 [00:47<00:19,  2.08it/s]\u001b[A\n",
      "Processing batches:  71%|███████████████▋      | 97/136 [00:47<00:18,  2.11it/s]\u001b[A\n",
      "Processing batches:  72%|███████████████▊      | 98/136 [00:48<00:18,  2.11it/s]\u001b[A\n",
      "Processing batches:  73%|████████████████      | 99/136 [00:48<00:17,  2.09it/s]\u001b[A\n",
      "Processing batches:  74%|███████████████▍     | 100/136 [00:49<00:17,  2.07it/s]\u001b[A\n",
      "Processing batches:  74%|███████████████▌     | 101/136 [00:49<00:17,  2.05it/s]\u001b[A\n",
      "Processing batches:  75%|███████████████▊     | 102/136 [00:50<00:16,  2.05it/s]\u001b[A\n",
      "Processing batches:  76%|███████████████▉     | 103/136 [00:50<00:16,  2.03it/s]\u001b[A\n",
      "Processing batches:  76%|████████████████     | 104/136 [00:51<00:15,  2.02it/s]\u001b[A\n",
      "Processing batches:  77%|████████████████▏    | 105/136 [00:51<00:15,  2.03it/s]\u001b[A\n",
      "Processing batches:  78%|████████████████▎    | 106/136 [00:52<00:14,  2.06it/s]\u001b[A\n",
      "Processing batches:  79%|████████████████▌    | 107/136 [00:52<00:13,  2.08it/s]\u001b[A\n",
      "Processing batches:  79%|████████████████▋    | 108/136 [00:53<00:13,  2.14it/s]\u001b[A\n",
      "Processing batches:  80%|████████████████▊    | 109/136 [00:53<00:12,  2.13it/s]\u001b[A\n",
      "Processing batches:  81%|████████████████▉    | 110/136 [00:54<00:12,  2.11it/s]\u001b[A\n",
      "Processing batches:  82%|█████████████████▏   | 111/136 [00:54<00:11,  2.12it/s]\u001b[A\n",
      "Processing batches:  82%|█████████████████▎   | 112/136 [00:54<00:11,  2.12it/s]\u001b[A\n",
      "Processing batches:  83%|█████████████████▍   | 113/136 [00:55<00:10,  2.12it/s]\u001b[A\n",
      "Processing batches:  84%|█████████████████▌   | 114/136 [00:55<00:10,  2.13it/s]\u001b[A\n",
      "Processing batches:  85%|█████████████████▊   | 115/136 [00:56<00:09,  2.10it/s]\u001b[A\n",
      "Processing batches:  85%|█████████████████▉   | 116/136 [00:57<00:10,  1.97it/s]\u001b[A\n",
      "Processing batches:  86%|██████████████████   | 117/136 [00:57<00:09,  1.99it/s]\u001b[A\n",
      "Processing batches:  87%|██████████████████▏  | 118/136 [00:57<00:09,  1.99it/s]\u001b[A\n",
      "Processing batches:  88%|██████████████████▍  | 119/136 [00:58<00:08,  2.04it/s]\u001b[A\n",
      "Processing batches:  88%|██████████████████▌  | 120/136 [00:58<00:07,  2.04it/s]\u001b[A\n",
      "Processing batches:  89%|██████████████████▋  | 121/136 [00:59<00:07,  2.01it/s]\u001b[A\n",
      "Processing batches:  90%|██████████████████▊  | 122/136 [00:59<00:06,  2.04it/s]\u001b[A\n",
      "Processing batches:  90%|██████████████████▉  | 123/136 [01:00<00:06,  2.07it/s]\u001b[A\n",
      "Processing batches:  91%|███████████████████▏ | 124/136 [01:00<00:05,  2.03it/s]\u001b[A\n",
      "Processing batches:  92%|███████████████████▎ | 125/136 [01:01<00:05,  2.05it/s]\u001b[A\n",
      "Processing batches:  93%|███████████████████▍ | 126/136 [01:01<00:04,  2.07it/s]\u001b[A\n",
      "Processing batches:  93%|███████████████████▌ | 127/136 [01:02<00:04,  2.08it/s]\u001b[A\n",
      "Processing batches:  94%|███████████████████▊ | 128/136 [01:02<00:03,  2.07it/s]\u001b[A\n",
      "Processing batches:  95%|███████████████████▉ | 129/136 [01:03<00:03,  2.05it/s]\u001b[A\n",
      "Processing batches:  96%|████████████████████ | 130/136 [01:03<00:02,  2.07it/s]\u001b[A\n",
      "Processing batches:  96%|████████████████████▏| 131/136 [01:04<00:02,  2.09it/s]\u001b[A\n",
      "Processing batches:  97%|████████████████████▍| 132/136 [01:04<00:01,  2.09it/s]\u001b[A\n",
      "Processing batches:  98%|████████████████████▌| 133/136 [01:05<00:01,  2.03it/s]\u001b[A\n",
      "Processing batches:  99%|████████████████████▋| 134/136 [01:05<00:00,  2.06it/s]\u001b[A\n",
      "Processing batches:  99%|████████████████████▊| 135/136 [01:06<00:00,  2.08it/s]\u001b[A\n",
      "Processing batches: 100%|█████████████████████| 136/136 [01:06<00:00,  2.04it/s]\u001b[A\n"
     ]
    },
    {
     "name": "stdout",
     "output_type": "stream",
     "text": [
      "Discriminator loss: 0.3803, Generator loss: 2.5450\n"
     ]
    },
    {
     "name": "stderr",
     "output_type": "stream",
     "text": [
      "\r",
      " 10%|████▍                                       | 1/10 [01:07<10:04, 67.21s/it]"
     ]
    },
    {
     "name": "stdout",
     "output_type": "stream",
     "text": [
      "Epoch 2/10\n"
     ]
    },
    {
     "name": "stderr",
     "output_type": "stream",
     "text": [
      "\n",
      "Processing batches:   0%|                               | 0/136 [00:00<?, ?it/s]\u001b[A\n",
      "Processing batches:   1%|▏                      | 1/136 [00:00<01:03,  2.12it/s]\u001b[A\n",
      "Processing batches:   1%|▎                      | 2/136 [00:00<01:03,  2.12it/s]\u001b[A\n",
      "Processing batches:   2%|▌                      | 3/136 [00:01<01:05,  2.03it/s]\u001b[A\n",
      "Processing batches:   3%|▋                      | 4/136 [00:01<01:04,  2.05it/s]\u001b[A\n",
      "Processing batches:   4%|▊                      | 5/136 [00:02<01:02,  2.09it/s]\u001b[A\n",
      "Processing batches:   4%|█                      | 6/136 [00:02<01:01,  2.12it/s]\u001b[A\n",
      "Processing batches:   5%|█▏                     | 7/136 [00:03<01:00,  2.12it/s]\u001b[A\n",
      "Processing batches:   6%|█▎                     | 8/136 [00:03<01:01,  2.08it/s]\u001b[A\n",
      "Processing batches:   7%|█▌                     | 9/136 [00:04<01:00,  2.11it/s]\u001b[A\n",
      "Processing batches:   7%|█▌                    | 10/136 [00:04<00:59,  2.12it/s]\u001b[A\n",
      "Processing batches:   8%|█▊                    | 11/136 [00:05<00:58,  2.13it/s]\u001b[A\n",
      "Processing batches:   9%|█▉                    | 12/136 [00:05<00:58,  2.12it/s]\u001b[A\n",
      "Processing batches:  10%|██                    | 13/136 [00:06<00:57,  2.15it/s]\u001b[A\n",
      "Processing batches:  10%|██▎                   | 14/136 [00:06<00:56,  2.17it/s]\u001b[A\n",
      "Processing batches:  11%|██▍                   | 15/136 [00:07<00:56,  2.14it/s]\u001b[A\n",
      "Processing batches:  12%|██▌                   | 16/136 [00:07<00:56,  2.11it/s]\u001b[A\n",
      "Processing batches:  12%|██▊                   | 17/136 [00:08<00:56,  2.10it/s]\u001b[A\n",
      "Processing batches:  13%|██▉                   | 18/136 [00:08<00:56,  2.09it/s]\u001b[A\n",
      "Processing batches:  14%|███                   | 19/136 [00:09<00:55,  2.10it/s]\u001b[A\n",
      "Processing batches:  15%|███▏                  | 20/136 [00:09<00:54,  2.12it/s]\u001b[A\n",
      "Processing batches:  15%|███▍                  | 21/136 [00:09<00:55,  2.09it/s]\u001b[A\n",
      "Processing batches:  16%|███▌                  | 22/136 [00:10<00:54,  2.11it/s]\u001b[A\n",
      "Processing batches:  17%|███▋                  | 23/136 [00:10<00:52,  2.15it/s]\u001b[A\n",
      "Processing batches:  18%|███▉                  | 24/136 [00:11<00:52,  2.13it/s]\u001b[A\n",
      "Processing batches:  18%|████                  | 25/136 [00:11<00:53,  2.06it/s]\u001b[A\n",
      "Processing batches:  19%|████▏                 | 26/136 [00:12<00:52,  2.09it/s]\u001b[A\n",
      "Processing batches:  20%|████▎                 | 27/136 [00:12<00:51,  2.13it/s]\u001b[A\n",
      "Processing batches:  21%|████▌                 | 28/136 [00:13<00:50,  2.12it/s]\u001b[A\n",
      "Processing batches:  21%|████▋                 | 29/136 [00:13<00:49,  2.15it/s]\u001b[A\n",
      "Processing batches:  22%|████▊                 | 30/136 [00:14<00:49,  2.13it/s]\u001b[A\n",
      "Processing batches:  23%|█████                 | 31/136 [00:14<00:49,  2.10it/s]\u001b[A\n",
      "Processing batches:  24%|█████▏                | 32/136 [00:15<00:50,  2.04it/s]\u001b[A\n",
      "Processing batches:  24%|█████▎                | 33/136 [00:15<00:49,  2.06it/s]\u001b[A\n",
      "Processing batches:  25%|█████▌                | 34/136 [00:16<00:48,  2.11it/s]\u001b[A\n",
      "Processing batches:  26%|█████▋                | 35/136 [00:16<00:48,  2.10it/s]\u001b[A\n",
      "Processing batches:  26%|█████▊                | 36/136 [00:17<00:47,  2.12it/s]\u001b[A\n",
      "Processing batches:  27%|█████▉                | 37/136 [00:17<00:46,  2.14it/s]\u001b[A\n",
      "Processing batches:  28%|██████▏               | 38/136 [00:17<00:45,  2.17it/s]\u001b[A\n",
      "Processing batches:  29%|██████▎               | 39/136 [00:18<00:44,  2.18it/s]\u001b[A\n",
      "Processing batches:  29%|██████▍               | 40/136 [00:18<00:44,  2.17it/s]\u001b[A\n",
      "Processing batches:  30%|██████▋               | 41/136 [00:19<00:43,  2.16it/s]\u001b[A\n",
      "Processing batches:  31%|██████▊               | 42/136 [00:19<00:43,  2.16it/s]\u001b[A\n",
      "Processing batches:  32%|██████▉               | 43/136 [00:20<00:42,  2.16it/s]\u001b[A\n",
      "Processing batches:  32%|███████               | 44/136 [00:20<00:42,  2.17it/s]\u001b[A\n",
      "Processing batches:  33%|███████▎              | 45/136 [00:21<00:42,  2.13it/s]\u001b[A\n",
      "Processing batches:  34%|███████▍              | 46/136 [00:21<00:42,  2.13it/s]\u001b[A\n",
      "Processing batches:  35%|███████▌              | 47/136 [00:22<00:41,  2.14it/s]\u001b[A\n",
      "Processing batches:  35%|███████▊              | 48/136 [00:22<00:40,  2.15it/s]\u001b[A\n",
      "Processing batches:  36%|███████▉              | 49/136 [00:23<00:40,  2.14it/s]\u001b[A\n",
      "Processing batches:  37%|████████              | 50/136 [00:23<00:40,  2.11it/s]\u001b[A\n",
      "Processing batches:  38%|████████▎             | 51/136 [00:24<00:39,  2.14it/s]\u001b[A\n",
      "Processing batches:  38%|████████▍             | 52/136 [00:24<00:40,  2.08it/s]\u001b[A\n",
      "Processing batches:  39%|████████▌             | 53/136 [00:25<00:40,  2.07it/s]\u001b[A\n",
      "Processing batches:  40%|████████▋             | 54/136 [00:25<00:39,  2.05it/s]\u001b[A\n",
      "Processing batches:  40%|████████▉             | 55/136 [00:25<00:38,  2.13it/s]\u001b[A\n",
      "Processing batches:  41%|█████████             | 56/136 [00:26<00:37,  2.16it/s]\u001b[A\n",
      "Processing batches:  42%|█████████▏            | 57/136 [00:26<00:37,  2.11it/s]\u001b[A\n",
      "Processing batches:  43%|█████████▍            | 58/136 [00:27<00:39,  1.98it/s]\u001b[A\n",
      "Processing batches:  43%|█████████▌            | 59/136 [00:27<00:38,  2.01it/s]\u001b[A\n",
      "Processing batches:  44%|█████████▋            | 60/136 [00:28<00:37,  2.02it/s]\u001b[A\n",
      "Processing batches:  45%|█████████▊            | 61/136 [00:28<00:36,  2.05it/s]\u001b[A\n",
      "Processing batches:  46%|██████████            | 62/136 [00:29<00:35,  2.10it/s]\u001b[A\n",
      "Processing batches:  46%|██████████▏           | 63/136 [00:29<00:34,  2.11it/s]\u001b[A\n",
      "Processing batches:  47%|██████████▎           | 64/136 [00:30<00:33,  2.12it/s]\u001b[A\n",
      "Processing batches:  48%|██████████▌           | 65/136 [00:30<00:32,  2.15it/s]\u001b[A\n",
      "Processing batches:  49%|██████████▋           | 66/136 [00:31<00:32,  2.14it/s]\u001b[A\n",
      "Processing batches:  49%|██████████▊           | 67/136 [00:31<00:32,  2.14it/s]\u001b[A\n",
      "Processing batches:  50%|███████████           | 68/136 [00:32<00:31,  2.14it/s]\u001b[A\n",
      "Processing batches:  51%|███████████▏          | 69/136 [00:32<00:30,  2.19it/s]\u001b[A\n",
      "Processing batches:  51%|███████████▎          | 70/136 [00:33<00:31,  2.12it/s]\u001b[A\n",
      "Processing batches:  52%|███████████▍          | 71/136 [00:33<00:30,  2.12it/s]\u001b[A\n",
      "Processing batches:  53%|███████████▋          | 72/136 [00:34<00:30,  2.12it/s]\u001b[A\n",
      "Processing batches:  54%|███████████▊          | 73/136 [00:34<00:30,  2.08it/s]\u001b[A\n",
      "Processing batches:  54%|███████████▉          | 74/136 [00:35<00:29,  2.12it/s]\u001b[A\n",
      "Processing batches:  55%|████████████▏         | 75/136 [00:35<00:28,  2.11it/s]\u001b[A\n",
      "Processing batches:  56%|████████████▎         | 76/136 [00:35<00:28,  2.12it/s]\u001b[A\n",
      "Processing batches:  57%|████████████▍         | 77/136 [00:36<00:28,  2.09it/s]\u001b[A\n",
      "Processing batches:  57%|████████████▌         | 78/136 [00:36<00:27,  2.08it/s]\u001b[A\n",
      "Processing batches:  58%|████████████▊         | 79/136 [00:37<00:27,  2.10it/s]\u001b[A\n",
      "Processing batches:  59%|████████████▉         | 80/136 [00:37<00:26,  2.12it/s]\u001b[A\n",
      "Processing batches:  60%|█████████████         | 81/136 [00:38<00:25,  2.15it/s]\u001b[A\n",
      "Processing batches:  60%|█████████████▎        | 82/136 [00:38<00:25,  2.13it/s]\u001b[A\n",
      "Processing batches:  61%|█████████████▍        | 83/136 [00:39<00:24,  2.12it/s]\u001b[A\n",
      "Processing batches:  62%|█████████████▌        | 84/136 [00:39<00:24,  2.10it/s]\u001b[A\n",
      "Processing batches:  62%|█████████████▊        | 85/136 [00:40<00:24,  2.12it/s]\u001b[A\n",
      "Processing batches:  63%|█████████████▉        | 86/136 [00:40<00:23,  2.10it/s]\u001b[A\n",
      "Processing batches:  64%|██████████████        | 87/136 [00:41<00:23,  2.08it/s]\u001b[A\n",
      "Processing batches:  65%|██████████████▏       | 88/136 [00:41<00:23,  2.07it/s]\u001b[A\n",
      "Processing batches:  65%|██████████████▍       | 89/136 [00:42<00:22,  2.10it/s]\u001b[A\n",
      "Processing batches:  66%|██████████████▌       | 90/136 [00:42<00:21,  2.11it/s]\u001b[A\n",
      "Processing batches:  67%|██████████████▋       | 91/136 [00:43<00:21,  2.12it/s]\u001b[A\n",
      "Processing batches:  68%|██████████████▉       | 92/136 [00:43<00:20,  2.14it/s]\u001b[A\n",
      "Processing batches:  68%|███████████████       | 93/136 [00:44<00:20,  2.12it/s]\u001b[A\n",
      "Processing batches:  69%|███████████████▏      | 94/136 [00:44<00:20,  2.08it/s]\u001b[A\n",
      "Processing batches:  70%|███████████████▎      | 95/136 [00:45<00:19,  2.06it/s]\u001b[A\n",
      "Processing batches:  71%|███████████████▌      | 96/136 [00:45<00:19,  2.10it/s]\u001b[A\n",
      "Processing batches:  71%|███████████████▋      | 97/136 [00:45<00:18,  2.10it/s]\u001b[A\n",
      "Processing batches:  72%|███████████████▊      | 98/136 [00:46<00:18,  2.09it/s]\u001b[A\n",
      "Processing batches:  73%|████████████████      | 99/136 [00:46<00:18,  2.04it/s]\u001b[A\n",
      "Processing batches:  74%|███████████████▍     | 100/136 [00:47<00:17,  2.07it/s]\u001b[A\n",
      "Processing batches:  74%|███████████████▌     | 101/136 [00:47<00:16,  2.08it/s]\u001b[A\n",
      "Processing batches:  75%|███████████████▊     | 102/136 [00:48<00:16,  2.12it/s]\u001b[A\n",
      "Processing batches:  76%|███████████████▉     | 103/136 [00:48<00:15,  2.16it/s]\u001b[A\n",
      "Processing batches:  76%|████████████████     | 104/136 [00:49<00:14,  2.17it/s]\u001b[A\n",
      "Processing batches:  77%|████████████████▏    | 105/136 [00:49<00:14,  2.14it/s]\u001b[A\n",
      "Processing batches:  78%|████████████████▎    | 106/136 [00:50<00:13,  2.15it/s]\u001b[A\n",
      "Processing batches:  79%|████████████████▌    | 107/136 [00:50<00:13,  2.16it/s]\u001b[A"
     ]
    }
   ],
   "source": [
    "history = train_dcgan(gan, dataset, batch_size, latent_size, predefined_noise, epochs=10)"
   ]
  },
  {
   "cell_type": "code",
   "execution_count": 295,
   "id": "eacc20f7",
   "metadata": {},
   "outputs": [
    {
     "data": {
      "image/png": "[encoded data removed]",
      "text/plain": [
       "<Figure size 640x480 with 1 Axes>"
      ]
     },
     "metadata": {},
     "output_type": "display_data"
    }
   ],
   "source": [
    "plt.plot(history['d_loss'], label='Discriminator')\n",
    "plt.plot(history['g_loss'], label='Generator')\n",
    "plt.legend()\n",
    "plt.show()"
   ]
  },
  {
   "cell_type": "code",
   "execution_count": 297,
   "id": "6ef0fa72",
   "metadata": {},
   "outputs": [
    {
     "name": "stdout",
     "output_type": "stream",
     "text": [
      "1/1 [==============================] - 0s 98ms/step\n"
     ]
    },
    {
     "data": {
      "image/png": "[encoded data removed]",
      "text/plain": [
       "<Figure size 1000x1000 with 25 Axes>"
      ]
     },
     "metadata": {},
     "output_type": "display_data"
    }
   ],
   "source": [
    "import matplotlib.pyplot as plt\n",
    "\n",
    "# Generate some synthetic images\n",
    "noise = np.random.randn(25, 100)\n",
    "synthetic_images = generator.predict(noise)\n",
    "\n",
    "# Plot the synthetic images\n",
    "plt.figure(figsize=(10,10))\n",
    "for i in range(25):\n",
    "    plt.subplot(5,5,i+1)\n",
    "    plt.xticks([])\n",
    "    plt.yticks([])\n",
    "    plt.grid(False)\n",
    "    plt.imshow(synthetic_images[i], cmap=plt.cm.binary)\n",
    "plt.show()"
   ]
  },
  {
   "cell_type": "code",
   "execution_count": 84,
   "id": "0db80648",
   "metadata": {},
   "outputs": [
    {
     "data": {
      "text/plain": [
       "<matplotlib.image.AxesImage at 0x7f3519d85940>"
      ]
     },
     "execution_count": 84,
     "metadata": {},
     "output_type": "execute_result"
    },
    {
     "data": {
      "image/png": "[encoded data removed]",
      "text/plain": [
       "<Figure size 640x480 with 1 Axes>"
      ]
     },
     "metadata": {},
     "output_type": "display_data"
    }
   ],
   "source": [
    "plt.imshow(X_train[0], cmap=plt.cm.binary)"
   ]
  },
  {
   "cell_type": "code",
   "execution_count": null,
   "id": "c031dc62",
   "metadata": {},
   "outputs": [],
   "source": []
  },
  {
   "cell_type": "code",
   "execution_count": null,
   "id": "af7c1e0d",
   "metadata": {},
   "outputs": [],
   "source": []
  },
  {
   "cell_type": "code",
   "execution_count": null,
   "id": "b369e6f0",
   "metadata": {},
   "outputs": [],
   "source": []
  },
  {
   "cell_type": "markdown",
   "id": "f69c9abd",
   "metadata": {},
   "source": [
    "# Task2"
   ]
  },
  {
   "cell_type": "code",
   "execution_count": 26,
   "id": "0775c72b",
   "metadata": {},
   "outputs": [],
   "source": [
    "import os\n",
    "import re\n",
    "\n",
    "import numpy as np\n",
    "import pandas as pd\n",
    "from sklearn.model_selection import train_test_split\n",
    "\n",
    "RS = 47\n",
    "\n",
    "# Download and extract the dataset\n",
    "if not os.path.exists('deu-eng.zip'):\n",
    "    !wget https://www.manythings.org/anki/deu-eng.zip\n",
    "    !unzip deu-eng.zip"
   ]
  },
  {
   "cell_type": "code",
   "execution_count": 282,
   "id": "d047b53f",
   "metadata": {},
   "outputs": [],
   "source": [
    "def load_data(path, num_samples=None):\n",
    "    df = pd.read_csv(path, header=None, names=['english', 'german', 'other'], sep='\\t')\n",
    "    df = df[:num_samples]\n",
    "    return df['english'].tolist(), df['german'].tolist()\n",
    "\n",
    "def preprocess_data(english, german=None):\n",
    "    english = [s.lower() for s in english]\n",
    "    english = [re.sub(r'[^\\w\\s]', '', s) for s in english]\n",
    "    \n",
    "    if german is not None:\n",
    "        german = [s.lower() for s in german]\n",
    "        german = [re.sub(r'[^\\w\\s]', '', s) for s in german]\n",
    "        return english, german\n",
    "    return english"
   ]
  },
  {
   "cell_type": "code",
   "execution_count": 229,
   "id": "e20b84a3",
   "metadata": {},
   "outputs": [],
   "source": [
    "english, german = load_data('deu.txt', num_samples=50000)\n",
    "english, german = preprocess_data(english, german)"
   ]
  },
  {
   "cell_type": "code",
   "execution_count": 237,
   "id": "292ba150",
   "metadata": {},
   "outputs": [],
   "source": [
    "max_length_english = max([len(i.split()) for i in english])\n",
    "max_length_german = max([len(i.split()) for i in german])"
   ]
  },
  {
   "cell_type": "code",
   "execution_count": 238,
   "id": "7d4d1dcb",
   "metadata": {},
   "outputs": [
    {
     "data": {
      "text/plain": [
       "(6, 15)"
      ]
     },
     "execution_count": 238,
     "metadata": {},
     "output_type": "execute_result"
    }
   ],
   "source": [
    "max_length_english, max_length_german"
   ]
  },
  {
   "cell_type": "code",
   "execution_count": 239,
   "id": "146bc018",
   "metadata": {},
   "outputs": [],
   "source": [
    "english_train, english_val, german_train, german_val = train_test_split(english, german, \n",
    "                                                                        test_size=0.2, shuffle=False, \n",
    "                                                                        random_state=RS)"
   ]
  },
  {
   "cell_type": "code",
   "execution_count": 240,
   "id": "00964319",
   "metadata": {},
   "outputs": [],
   "source": [
    "latent_dim = 128\n",
    "max_words_in_english = 10_000 # maximum number of words to consider in the English vocabulary\n",
    "max_words_in_german = 10_000 # maximum number of words to consider in the German vocabulary"
   ]
  },
  {
   "cell_type": "code",
   "execution_count": 241,
   "id": "d4ad6e17",
   "metadata": {},
   "outputs": [],
   "source": [
    "from keras.preprocessing.text import Tokenizer\n",
    "from tensorflow.keras.preprocessing.sequence import pad_sequences\n",
    "\n",
    "# tokenize the text and create vocabulary for both languages\n",
    "english_tokenizer = Tokenizer(num_words=max_words_in_english)\n",
    "english_tokenizer.fit_on_texts(english_train)\n",
    "english_vocab_size = len(english_tokenizer.word_index) + 1\n",
    "\n",
    "german_tokenizer = Tokenizer(num_words=max_words_in_german)\n",
    "german_tokenizer.fit_on_texts(german_train)\n",
    "german_vocab_size = len(german_tokenizer.word_index) + 1\n",
    "\n",
    "english_train_padded = pad_sequences(english_tokenizer.texts_to_sequences(english_train), maxlen=max_length_english, padding='post')\n",
    "german_train_padded = pad_sequences(german_tokenizer.texts_to_sequences(german_train), maxlen=max_length_german, padding='post')\n",
    "english_test_padded = pad_sequences(english_tokenizer.texts_to_sequences(english_val), maxlen=max_length_english, padding='post')\n",
    "german_test_padded = pad_sequences(german_tokenizer.texts_to_sequences(german_val), maxlen=max_length_german, padding='post')"
   ]
  },
  {
   "cell_type": "code",
   "execution_count": 243,
   "id": "df6fde87",
   "metadata": {},
   "outputs": [
    {
     "name": "stdout",
     "output_type": "stream",
     "text": [
      "Model: \"sequential_17\"\n",
      "_________________________________________________________________\n",
      " Layer (type)                Output Shape              Param #   \n",
      "=================================================================\n",
      " embedding_49 (Embedding)    (None, 6, 128)            690176    \n",
      "                                                                 \n",
      " lstm_64 (LSTM)              (None, 128)               131584    \n",
      "                                                                 \n",
      " repeat_vector_16 (RepeatVec  (None, 15, 128)          0         \n",
      " tor)                                                            \n",
      "                                                                 \n",
      " lstm_65 (LSTM)              (None, 15, 128)           131584    \n",
      "                                                                 \n",
      " time_distributed_15 (TimeDi  (None, 15, 8661)         1117269   \n",
      " stributed)                                                      \n",
      "                                                                 \n",
      " activation_15 (Activation)  (None, 15, 8661)          0         \n",
      "                                                                 \n",
      "=================================================================\n",
      "Total params: 2,070,613\n",
      "Trainable params: 2,070,613\n",
      "Non-trainable params: 0\n",
      "_________________________________________________________________\n"
     ]
    }
   ],
   "source": [
    "from keras.layers import Embedding, LSTM, RepeatVector, Dense, Activation, TimeDistributed\n",
    "\n",
    "model = keras.Sequential()\n",
    "\n",
    "model.add(Embedding(english_vocab_size, latent_dim, input_length=max_length_english, mask_zero=True))\n",
    "model.add(LSTM(128))\n",
    "model.add(RepeatVector(max_length_german))\n",
    "model.add(LSTM(128, return_sequences=True))\n",
    "\n",
    "# add a dense layer for prediction\n",
    "model.add(TimeDistributed(Dense(german_vocab_size)))\n",
    "model.add(Activation('softmax'))\n",
    "\n",
    "model.compile(loss='sparse_categorical_crossentropy', optimizer='adam', metrics=['accuracy'])\n",
    "model.summary()"
   ]
  },
  {
   "cell_type": "code",
   "execution_count": 244,
   "id": "b1b888b2",
   "metadata": {
    "scrolled": true
   },
   "outputs": [
    {
     "name": "stdout",
     "output_type": "stream",
     "text": [
      "Epoch 1/50\n",
      "157/157 [==============================] - 41s 226ms/step - loss: 3.1439 - accuracy: 0.7344 - val_loss: 2.2296 - val_accuracy: 0.7094\n",
      "Epoch 2/50\n",
      "157/157 [==============================] - 34s 218ms/step - loss: 1.8589 - accuracy: 0.7417 - val_loss: 1.9752 - val_accuracy: 0.7214\n",
      "Epoch 3/50\n",
      "157/157 [==============================] - 34s 217ms/step - loss: 1.7134 - accuracy: 0.7555 - val_loss: 1.8963 - val_accuracy: 0.7222\n",
      "Epoch 4/50\n",
      "157/157 [==============================] - 34s 219ms/step - loss: 1.6454 - accuracy: 0.7624 - val_loss: 1.8392 - val_accuracy: 0.7299\n",
      "Epoch 5/50\n",
      "157/157 [==============================] - 34s 219ms/step - loss: 1.5917 - accuracy: 0.7638 - val_loss: 1.8057 - val_accuracy: 0.7306\n",
      "Epoch 6/50\n",
      "157/157 [==============================] - 34s 219ms/step - loss: 1.5572 - accuracy: 0.7661 - val_loss: 1.7850 - val_accuracy: 0.7326\n",
      "Epoch 7/50\n",
      "157/157 [==============================] - 35s 221ms/step - loss: 1.5326 - accuracy: 0.7679 - val_loss: 1.7693 - val_accuracy: 0.7339\n",
      "Epoch 8/50\n",
      "157/157 [==============================] - 35s 221ms/step - loss: 1.5049 - accuracy: 0.7734 - val_loss: 1.7400 - val_accuracy: 0.7412\n",
      "Epoch 9/50\n",
      "157/157 [==============================] - 35s 222ms/step - loss: 1.4596 - accuracy: 0.7813 - val_loss: 1.7071 - val_accuracy: 0.7423\n",
      "Epoch 10/50\n",
      "157/157 [==============================] - 37s 235ms/step - loss: 1.4291 - accuracy: 0.7827 - val_loss: 1.6855 - val_accuracy: 0.7448\n",
      "Epoch 11/50\n",
      "157/157 [==============================] - 36s 229ms/step - loss: 1.3917 - accuracy: 0.7869 - val_loss: 1.6470 - val_accuracy: 0.7515\n",
      "Epoch 12/50\n",
      "157/157 [==============================] - 35s 222ms/step - loss: 1.3378 - accuracy: 0.7941 - val_loss: 1.5949 - val_accuracy: 0.7579\n",
      "Epoch 13/50\n",
      "157/157 [==============================] - 35s 221ms/step - loss: 1.2801 - accuracy: 0.8020 - val_loss: 1.5433 - val_accuracy: 0.7668\n",
      "Epoch 14/50\n",
      "157/157 [==============================] - 35s 220ms/step - loss: 1.2209 - accuracy: 0.8098 - val_loss: 1.4918 - val_accuracy: 0.7745\n",
      "Epoch 15/50\n",
      "157/157 [==============================] - 34s 218ms/step - loss: 1.1635 - accuracy: 0.8177 - val_loss: 1.4430 - val_accuracy: 0.7801\n",
      "Epoch 16/50\n",
      "157/157 [==============================] - 35s 221ms/step - loss: 1.1138 - accuracy: 0.8233 - val_loss: 1.4070 - val_accuracy: 0.7842\n",
      "Epoch 17/50\n",
      "157/157 [==============================] - 34s 219ms/step - loss: 1.0690 - accuracy: 0.8276 - val_loss: 1.3723 - val_accuracy: 0.7867\n",
      "Epoch 18/50\n",
      "157/157 [==============================] - 34s 219ms/step - loss: 1.0280 - accuracy: 0.8316 - val_loss: 1.3454 - val_accuracy: 0.7892\n",
      "Epoch 19/50\n",
      "157/157 [==============================] - 35s 222ms/step - loss: 0.9894 - accuracy: 0.8349 - val_loss: 1.3164 - val_accuracy: 0.7914\n",
      "Epoch 20/50\n",
      "157/157 [==============================] - 40s 253ms/step - loss: 0.9525 - accuracy: 0.8383 - val_loss: 1.2928 - val_accuracy: 0.7936\n",
      "Epoch 21/50\n",
      "157/157 [==============================] - 36s 230ms/step - loss: 0.9169 - accuracy: 0.8412 - val_loss: 1.2723 - val_accuracy: 0.7944\n",
      "Epoch 22/50\n",
      "157/157 [==============================] - 36s 226ms/step - loss: 0.8837 - accuracy: 0.8441 - val_loss: 1.2531 - val_accuracy: 0.7957\n",
      "Epoch 23/50\n",
      "157/157 [==============================] - 36s 227ms/step - loss: 0.8513 - accuracy: 0.8471 - val_loss: 1.2303 - val_accuracy: 0.7981\n",
      "Epoch 24/50\n",
      "157/157 [==============================] - 36s 226ms/step - loss: 0.8207 - accuracy: 0.8499 - val_loss: 1.2172 - val_accuracy: 0.7993\n",
      "Epoch 25/50\n",
      "157/157 [==============================] - 35s 220ms/step - loss: 0.7913 - accuracy: 0.8527 - val_loss: 1.2015 - val_accuracy: 0.8000\n",
      "Epoch 26/50\n",
      "157/157 [==============================] - 34s 216ms/step - loss: 0.7634 - accuracy: 0.8556 - val_loss: 1.1869 - val_accuracy: 0.8020\n",
      "Epoch 27/50\n",
      "157/157 [==============================] - 34s 220ms/step - loss: 0.7365 - accuracy: 0.8583 - val_loss: 1.1746 - val_accuracy: 0.8025\n",
      "Epoch 28/50\n",
      "157/157 [==============================] - 34s 220ms/step - loss: 0.7108 - accuracy: 0.8612 - val_loss: 1.1605 - val_accuracy: 0.8052\n",
      "Epoch 29/50\n",
      "157/157 [==============================] - 34s 216ms/step - loss: 0.6856 - accuracy: 0.8642 - val_loss: 1.1489 - val_accuracy: 0.8065\n",
      "Epoch 30/50\n",
      "157/157 [==============================] - 33s 208ms/step - loss: 0.6618 - accuracy: 0.8670 - val_loss: 1.1386 - val_accuracy: 0.8067\n",
      "Epoch 31/50\n",
      "157/157 [==============================] - 33s 208ms/step - loss: 0.6384 - accuracy: 0.8699 - val_loss: 1.1287 - val_accuracy: 0.8081\n",
      "Epoch 32/50\n",
      "157/157 [==============================] - 33s 209ms/step - loss: 0.6167 - accuracy: 0.8727 - val_loss: 1.1194 - val_accuracy: 0.8088\n",
      "Epoch 33/50\n",
      "157/157 [==============================] - 32s 205ms/step - loss: 0.5958 - accuracy: 0.8757 - val_loss: 1.1134 - val_accuracy: 0.8094\n",
      "Epoch 34/50\n",
      "157/157 [==============================] - 32s 205ms/step - loss: 0.5755 - accuracy: 0.8784 - val_loss: 1.1073 - val_accuracy: 0.8106\n",
      "Epoch 35/50\n",
      "157/157 [==============================] - 32s 206ms/step - loss: 0.5563 - accuracy: 0.8810 - val_loss: 1.1003 - val_accuracy: 0.8118\n",
      "Epoch 36/50\n",
      "157/157 [==============================] - 33s 211ms/step - loss: 0.5380 - accuracy: 0.8835 - val_loss: 1.0930 - val_accuracy: 0.8124\n",
      "Epoch 37/50\n",
      "157/157 [==============================] - 34s 216ms/step - loss: 0.5201 - accuracy: 0.8862 - val_loss: 1.0864 - val_accuracy: 0.8134\n",
      "Epoch 38/50\n",
      "157/157 [==============================] - 34s 215ms/step - loss: 0.5030 - accuracy: 0.8887 - val_loss: 1.0842 - val_accuracy: 0.8132\n",
      "Epoch 39/50\n",
      "157/157 [==============================] - 34s 216ms/step - loss: 0.4873 - accuracy: 0.8913 - val_loss: 1.0800 - val_accuracy: 0.8144\n",
      "Epoch 40/50\n",
      "157/157 [==============================] - 34s 216ms/step - loss: 0.4717 - accuracy: 0.8937 - val_loss: 1.0789 - val_accuracy: 0.8143\n",
      "Epoch 41/50\n",
      "157/157 [==============================] - 34s 214ms/step - loss: 0.4566 - accuracy: 0.8958 - val_loss: 1.0756 - val_accuracy: 0.8147\n",
      "Epoch 42/50\n",
      "157/157 [==============================] - 34s 216ms/step - loss: 0.4433 - accuracy: 0.8981 - val_loss: 1.0716 - val_accuracy: 0.8156\n",
      "Epoch 43/50\n",
      "157/157 [==============================] - 34s 214ms/step - loss: 0.4307 - accuracy: 0.9001 - val_loss: 1.0689 - val_accuracy: 0.8156\n",
      "Epoch 44/50\n",
      "157/157 [==============================] - 33s 213ms/step - loss: 0.4180 - accuracy: 0.9020 - val_loss: 1.0665 - val_accuracy: 0.8167\n",
      "Epoch 45/50\n",
      "157/157 [==============================] - 34s 214ms/step - loss: 0.4062 - accuracy: 0.9043 - val_loss: 1.0709 - val_accuracy: 0.8163\n",
      "Epoch 46/50\n",
      "157/157 [==============================] - 34s 214ms/step - loss: 0.3957 - accuracy: 0.9061 - val_loss: 1.0659 - val_accuracy: 0.8167\n",
      "Epoch 47/50\n",
      "157/157 [==============================] - 34s 215ms/step - loss: 0.3846 - accuracy: 0.9079 - val_loss: 1.0670 - val_accuracy: 0.8168\n",
      "Epoch 48/50\n",
      "157/157 [==============================] - 33s 213ms/step - loss: 0.3750 - accuracy: 0.9093 - val_loss: 1.0683 - val_accuracy: 0.8178\n",
      "Epoch 49/50\n",
      "157/157 [==============================] - 33s 212ms/step - loss: 0.3658 - accuracy: 0.9109 - val_loss: 1.0671 - val_accuracy: 0.8180\n",
      "Epoch 50/50\n",
      "157/157 [==============================] - 34s 214ms/step - loss: 0.3566 - accuracy: 0.9126 - val_loss: 1.0671 - val_accuracy: 0.8177\n"
     ]
    }
   ],
   "source": [
    "history = model.fit(english_train_padded, german_train_padded, \n",
    "                    validation_data=(english_test_padded, german_test_padded), \n",
    "                    epochs=50, batch_size=256)"
   ]
  },
  {
   "cell_type": "code",
   "execution_count": 245,
   "id": "3aea2a12",
   "metadata": {},
   "outputs": [
    {
     "data": {
      "image/png": "[encoded data removed]",
      "text/plain": [
       "<Figure size 640x480 with 1 Axes>"
      ]
     },
     "metadata": {},
     "output_type": "display_data"
    }
   ],
   "source": [
    "import matplotlib.pyplot as plt\n",
    "\n",
    "plt.plot(history.history['loss'])\n",
    "plt.plot(history.history['val_loss'])\n",
    "plt.title('Model Loss')\n",
    "plt.ylabel('Loss')\n",
    "plt.xlabel('Epoch')\n",
    "plt.legend(['Train', 'Val'], loc='upper left')\n",
    "plt.show()"
   ]
  },
  {
   "cell_type": "code",
   "execution_count": 246,
   "id": "343adffa",
   "metadata": {},
   "outputs": [
    {
     "name": "stdout",
     "output_type": "stream",
     "text": [
      "313/313 [==============================] - 7s 23ms/step - loss: 1.0671 - accuracy: 0.8177\n",
      "Acc: 0.8177\n"
     ]
    }
   ],
   "source": [
    "loss, acc = model.evaluate(english_test_padded, german_test_padded)\n",
    "print(f'Acc: {acc:.4f}')"
   ]
  },
  {
   "cell_type": "code",
   "execution_count": 284,
   "id": "e1571f61",
   "metadata": {
    "scrolled": true
   },
   "outputs": [
    {
     "name": "stdout",
     "output_type": "stream",
     "text": [
      "1/1 [==============================] - 0s 24ms/step\n",
      "ich liebe katzen\n",
      "das mutter ist ist gut\n",
      "ich werde die\n"
     ]
    }
   ],
   "source": [
    "english_sentences = ['I love cats', 'The weather is nice today', 'I am going to the store']\n",
    "english_sentences = preprocess_data(english_sentences)\n",
    "english_sentences_padded = pad_sequences(english_tokenizer.texts_to_sequences(english_sentences), maxlen=max_length_english, padding='post')\n",
    "predictions = model.predict(english_sentences_padded)\n",
    "\n",
    "for prediction in predictions:\n",
    "    translation = []\n",
    "    for word_prediction in prediction:\n",
    "        index = np.argmax(word_prediction)\n",
    "        if 0 < index < german_vocab_size:\n",
    "            translation.append(german_tokenizer.index_word[index])\n",
    "    print(' '.join(translation))"
   ]
  },
  {
   "cell_type": "code",
   "execution_count": null,
   "id": "988e870b",
   "metadata": {},
   "outputs": [],
   "source": []
  },
  {
   "cell_type": "code",
   "execution_count": null,
   "id": "7abae9e0",
   "metadata": {},
   "outputs": [],
   "source": []
  },
  {
   "cell_type": "code",
   "execution_count": null,
   "id": "89c55d44",
   "metadata": {},
   "outputs": [],
   "source": []
  },
  {
   "cell_type": "markdown",
   "id": "ed1d8180",
   "metadata": {},
   "source": [
    "# Task3"
   ]
  },
  {
   "cell_type": "code",
   "execution_count": 331,
   "id": "d0c08896",
   "metadata": {},
   "outputs": [
    {
     "data": {
      "application/vnd.jupyter.widget-view+json": {
       "model_id": "e12817051731419eb2bfff891d3ef117",
       "version_major": 2,
       "version_minor": 0
      },
      "text/plain": [
       "Downloading builder script:   0%|          | 0.00/4.31k [00:00<?, ?B/s]"
      ]
     },
     "metadata": {},
     "output_type": "display_data"
    },
    {
     "data": {
      "application/vnd.jupyter.widget-view+json": {
       "model_id": "4f387334e4dd4ea089b3c6bc013e3723",
       "version_major": 2,
       "version_minor": 0
      },
      "text/plain": [
       "Downloading metadata:   0%|          | 0.00/2.17k [00:00<?, ?B/s]"
      ]
     },
     "metadata": {},
     "output_type": "display_data"
    },
    {
     "data": {
      "application/vnd.jupyter.widget-view+json": {
       "model_id": "eed6332555d94c62bbfad7d0cddd8a4f",
       "version_major": 2,
       "version_minor": 0
      },
      "text/plain": [
       "Downloading readme:   0%|          | 0.00/7.59k [00:00<?, ?B/s]"
      ]
     },
     "metadata": {},
     "output_type": "display_data"
    },
    {
     "name": "stdout",
     "output_type": "stream",
     "text": [
      "Downloading and preparing dataset imdb/plain_text to /home/receptor/.cache/huggingface/datasets/imdb/plain_text/1.0.0/2fdd8b9bcadd6e7055e742a706876ba43f19faee861df134affd7a3f60fc38a1...\n"
     ]
    },
    {
     "data": {
      "application/vnd.jupyter.widget-view+json": {
       "model_id": "633405358b1445dc980be9e192a0db11",
       "version_major": 2,
       "version_minor": 0
      },
      "text/plain": [
       "Downloading data:   0%|          | 0.00/84.1M [00:00<?, ?B/s]"
      ]
     },
     "metadata": {},
     "output_type": "display_data"
    },
    {
     "data": {
      "application/vnd.jupyter.widget-view+json": {
       "model_id": "b042043fa542418496e748081c3858a8",
       "version_major": 2,
       "version_minor": 0
      },
      "text/plain": [
       "Generating train split:   0%|          | 0/25000 [00:00<?, ? examples/s]"
      ]
     },
     "metadata": {},
     "output_type": "display_data"
    },
    {
     "data": {
      "application/vnd.jupyter.widget-view+json": {
       "model_id": "4a5053f507634a3e818e77ac7f4feb21",
       "version_major": 2,
       "version_minor": 0
      },
      "text/plain": [
       "Generating test split:   0%|          | 0/25000 [00:00<?, ? examples/s]"
      ]
     },
     "metadata": {},
     "output_type": "display_data"
    },
    {
     "data": {
      "application/vnd.jupyter.widget-view+json": {
       "model_id": "4a22ce2ff12b4129b7e769c7aeb77ad8",
       "version_major": 2,
       "version_minor": 0
      },
      "text/plain": [
       "Generating unsupervised split:   0%|          | 0/50000 [00:00<?, ? examples/s]"
      ]
     },
     "metadata": {},
     "output_type": "display_data"
    },
    {
     "name": "stdout",
     "output_type": "stream",
     "text": [
      "Dataset imdb downloaded and prepared to /home/receptor/.cache/huggingface/datasets/imdb/plain_text/1.0.0/2fdd8b9bcadd6e7055e742a706876ba43f19faee861df134affd7a3f60fc38a1. Subsequent calls will reuse this data.\n"
     ]
    },
    {
     "data": {
      "application/vnd.jupyter.widget-view+json": {
       "model_id": "799bc8b6dbb7458091a7b0faa625b690",
       "version_major": 2,
       "version_minor": 0
      },
      "text/plain": [
       "  0%|          | 0/3 [00:00<?, ?it/s]"
      ]
     },
     "metadata": {},
     "output_type": "display_data"
    }
   ],
   "source": [
    "from transformers import pipeline\n",
    "from datasets import load_dataset\n",
    "\n",
    "imdb = load_dataset(\"imdb\")"
   ]
  },
  {
   "cell_type": "code",
   "execution_count": 323,
   "id": "614df53c",
   "metadata": {
    "scrolled": true
   },
   "outputs": [
    {
     "name": "stderr",
     "output_type": "stream",
     "text": [
      "No model was supplied, defaulted to distilbert-base-uncased-finetuned-sst-2-english and revision af0f99b (https://huggingface.co/distilbert-base-uncased-finetuned-sst-2-english).\n",
      "Using a pipeline without specifying a model name and revision in production is not recommended.\n",
      "Some layers from the model checkpoint at distilbert-base-uncased-finetuned-sst-2-english were not used when initializing TFDistilBertForSequenceClassification: ['dropout_19']\n",
      "- This IS expected if you are initializing TFDistilBertForSequenceClassification from the checkpoint of a model trained on another task or with another architecture (e.g. initializing a BertForSequenceClassification model from a BertForPreTraining model).\n",
      "- This IS NOT expected if you are initializing TFDistilBertForSequenceClassification from the checkpoint of a model that you expect to be exactly identical (initializing a BertForSequenceClassification model from a BertForSequenceClassification model).\n",
      "Some layers of TFDistilBertForSequenceClassification were not initialized from the model checkpoint at distilbert-base-uncased-finetuned-sst-2-english and are newly initialized: ['dropout_79']\n",
      "You should probably TRAIN this model on a down-stream task to be able to use it for predictions and inference.\n"
     ]
    }
   ],
   "source": [
    "sentiment_pipeline = pipeline('text-classification')"
   ]
  },
  {
   "cell_type": "code",
   "execution_count": 328,
   "id": "9d0931f4",
   "metadata": {},
   "outputs": [],
   "source": [
    "texts = [\n",
    "    \"I had a great time at the movie. The acting was superb and the plot was engaging.\",\n",
    "    \"I was disappointed by the movie. The acting was mediocre and the plot was confusing.\"\n",
    "]"
   ]
  },
  {
   "cell_type": "code",
   "execution_count": 330,
   "id": "c3fd5b85",
   "metadata": {},
   "outputs": [
    {
     "data": {
      "text/plain": [
       "[{'label': 'POSITIVE', 'score': 0.9998676776885986},\n",
       " {'label': 'NEGATIVE', 'score': 0.9998102784156799}]"
      ]
     },
     "execution_count": 330,
     "metadata": {},
     "output_type": "execute_result"
    }
   ],
   "source": [
    "sentiment_pipeline(texts)"
   ]
  },
  {
   "cell_type": "code",
   "execution_count": 353,
   "id": "5061f402",
   "metadata": {
    "scrolled": true
   },
   "outputs": [
    {
     "name": "stdout",
     "output_type": "stream",
     "text": [
      "###########################################################\n",
      "I love sci-fi and am willing to put up with a lot. Sci-fi movies/TV are usually underfunded, under-appreciated and misunderstood. I tried to like this, I really did, but it is to good TV sci-fi as Babylon 5 is to Star Trek (the original). Silly prosthetics, cheap cardboard sets, stilted dialogues, CG that doesn't match the background, and painfully one-dimensional characters cannot be overcome with a 'sci-fi' setting. (I'm sure there are those of you out there who think Babylon 5 is good sci-fi TV. It's not. It's clichéd and uninspiring.) While US viewers might like emotion and character development, sci-fi is a genre that does not take itself seriously (cf. Star Trek). It may treat important issues, yet not as a serious philosophy. It's really difficult to care about the characters here as they are not simply foolish, just missing a spark of life. Their actions and reactions are wooden and predictable, often painful to watch. The makers of Earth KNOW it's rubbish as they have to always say \"Gene Roddenberry's Earth...\" otherwise people would not continue watching. Roddenberry's ashes must be turning in their orbit as this dull, cheap, poorly edited (watching it without advert breaks really brings this home) trudging Trabant of a show lumbers into space. Spoiler. So, kill off a main character. And then bring him back as another actor. Jeeez! Dallas all over again.\n",
      "\n",
      "Predicted: NEGATIVE\n",
      "Original: NEGATIVE\n",
      "###########################################################\n",
      "###########################################################\n",
      "Worth the entertainment value of a rental, especially if you like action movies. This one features the usual car chases, fights with the great Van Damme kick style, shooting battles with the 40 shell load shotgun, and even terrorist style bombs. All of this is entertaining and competently handled but there is nothing that really blows you away if you've seen your share before.<br /><br />The plot is made interesting by the inclusion of a rabbit, which is clever but hardly profound. Many of the characters are heavily stereotyped -- the angry veterans, the terrified illegal aliens, the crooked cops, the indifferent feds, the bitchy tough lady station head, the crooked politician, the fat federale who looks like he was typecast as the Mexican in a Hollywood movie from the 1940s. All passably acted but again nothing special.<br /><br />I thought the main villains were pretty well done and fairly well acted. By the end of the movie you certainly knew who the good guys were and weren't. There was an emotional lift as the really bad ones got their just deserts. Very simplistic, but then you weren't expecting Hamlet, right? The only thing I found really annoying was the constant cuts to VDs daughter during the last fight scene.<br /><br />Not bad. Not good. Passable 4.\n",
      "\n",
      "Predicted: NEGATIVE\n",
      "Original: NEGATIVE\n",
      "###########################################################\n",
      "###########################################################\n",
      "its a totally average film with a few semi-alright action sequences that make the plot seem a little better and remind the viewer of the classic van dam films. parts of the plot don't make sense and seem to be added in to use up time. the end plot is that of a very basic type that doesn't leave the viewer guessing and any twists are obvious from the beginning. the end scene with the flask backs don't make sense as they are added in and seem to have little relevance to the history of van dam's character. not really worth watching again, bit disappointed in the end production, even though it is apparent it was shot on a low budget certain shots and sections in the film are of poor directed quality\n",
      "\n",
      "Predicted: NEGATIVE\n",
      "Original: NEGATIVE\n",
      "###########################################################\n",
      "###########################################################\n",
      "STAR RATING: ***** Saturday Night **** Friday Night *** Friday Morning ** Sunday Night * Monday Morning <br /><br />Former New Orleans homicide cop Jack Robideaux (Jean Claude Van Damme) is re-assigned to Columbus, a small but violent town in Mexico to help the police there with their efforts to stop a major heroin smuggling operation into their town. The culprits turn out to be ex-military, lead by former commander Benjamin Meyers (Stephen Lord, otherwise known as Jase from East Enders) who is using a special method he learned in Afghanistan to fight off his opponents. But Jack has a more personal reason for taking him down, that draws the two men into an explosive final showdown where only one will walk away alive.<br /><br />After Until Death, Van Damme appeared to be on a high, showing he could make the best straight to video films in the action market. While that was a far more drama oriented film, with The Shepherd he has returned to the high-kicking, no brainer action that first made him famous and has sadly produced his worst film since Derailed. It's nowhere near as bad as that film, but what I said still stands.<br /><br />A dull, predictable film, with very little in the way of any exciting action. What little there is mainly consists of some limp fight scenes, trying to look cool and trendy with some cheap slo-mo/sped up effects added to them that sadly instead make them look more desperate. Being a Mexican set film, director Isaac Florentine has tried to give the film a Robert Rodriguez/Desperado sort of feel, but this only adds to the desperation.<br /><br />VD gives a particularly uninspired performance and given he's never been a Robert De Niro sort of actor, that can't be good. As the villain, Lord shouldn't expect to leave the beeb anytime soon. He gets little dialogue at the beginning as he struggles to muster an American accent but gets mysteriously better towards the end. All the supporting cast are equally bland, and do nothing to raise the films spirits at all.<br /><br />This is one shepherd that's strayed right from the flock. *\n",
      "\n",
      "Predicted: NEGATIVE\n",
      "Original: NEGATIVE\n",
      "###########################################################\n",
      "###########################################################\n",
      "First off let me say, If you haven't enjoyed a Van Damme movie since bloodsport, you probably will not like this movie. Most of these movies may not have the best plots or best actors but I enjoy these kinds of movies for what they are. This movie is much better than any of the movies the other action guys (Segal and Dolph) have thought about putting out the past few years. Van Damme is good in the movie, the movie is only worth watching to Van Damme fans. It is not as good as Wake of Death (which i highly recommend to anyone of likes Van Damme) or In hell but, in my opinion it's worth watching. It has the same type of feel to it as Nowhere to Run. Good fun stuff!\n",
      "\n",
      "Predicted: POSITIVE\n",
      "Original: NEGATIVE\n",
      "###########################################################\n"
     ]
    }
   ],
   "source": [
    "for i in range(5):\n",
    "    text = imdb[\"test\"][i]['text']\n",
    "    label = imdb[\"test\"][i]['label']\n",
    "\n",
    "    print('###########################################################')\n",
    "    print(f'{text}\\n\\nPredicted: {sentiment_pipeline(text)[0][\"label\"]}\\n'\n",
    "          f'Original: {\"POSITIVE\" if label else \"NEGATIVE\"}')\n",
    "    print('###########################################################')"
   ]
  },
  {
   "cell_type": "code",
   "execution_count": 355,
   "id": "29c57c7e",
   "metadata": {},
   "outputs": [
    {
     "name": "stderr",
     "output_type": "stream",
     "text": [
      "All model checkpoint layers were used when initializing TFBertForSequenceClassification.\n",
      "\n",
      "Some layers of TFBertForSequenceClassification were not initialized from the model checkpoint at bert-base-cased and are newly initialized: ['classifier']\n",
      "You should probably TRAIN this model on a down-stream task to be able to use it for predictions and inference.\n"
     ]
    }
   ],
   "source": [
    "import tensorflow as tf\n",
    "from transformers import TFAutoModelForSequenceClassification, AutoTokenizer\n",
    "\n",
    "model = TFAutoModelForSequenceClassification.from_pretrained(\"bert-base-cased\")\n",
    "tokenizer = AutoTokenizer.from_pretrained(\"bert-base-cased\")"
   ]
  },
  {
   "cell_type": "code",
   "execution_count": 356,
   "id": "1d3d21d0",
   "metadata": {},
   "outputs": [],
   "source": [
    "input_text = \"This movie was terrible\"\n",
    "input_ids = tokenizer.encode(input_text, return_tensors=\"tf\")\n",
    "\n",
    "logits = model(input_ids)[0]\n",
    "probabilities = tf.nn.softmax(logits)\n",
    "prediction = tf.argmax(probabilities, axis=-1)"
   ]
  },
  {
   "cell_type": "code",
   "execution_count": 362,
   "id": "abe1c3cc",
   "metadata": {},
   "outputs": [
    {
     "name": "stdout",
     "output_type": "stream",
     "text": [
      "0\n"
     ]
    }
   ],
   "source": [
    "print(prediction.numpy()[0])  # Outputs: 0 (indicating negative sentiment)"
   ]
  },
  {
   "cell_type": "code",
   "execution_count": null,
   "id": "102a9adf",
   "metadata": {},
   "outputs": [],
   "source": []
  }
 ],
 "metadata": {
  "kernelspec": {
   "display_name": "pattern-recognition",
   "language": "python",
   "name": "pattern-recognition"
  },
  "language_info": {
   "codemirror_mode": {
    "name": "ipython",
    "version": 3
   },
   "file_extension": ".py",
   "mimetype": "text/x-python",
   "name": "python",
   "nbconvert_exporter": "python",
   "pygments_lexer": "ipython3",
   "version": "3.8.10"
  }
 },
 "nbformat": 4,
 "nbformat_minor": 5
}
